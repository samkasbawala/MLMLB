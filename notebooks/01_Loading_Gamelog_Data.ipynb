{
 "cells": [
  {
   "cell_type": "markdown",
   "id": "6de451ce-c0d5-4c96-8636-90590283a689",
   "metadata": {},
   "source": [
    "# Loading Gamelog Data\n",
    "In this notebook, we will load the data from the gamelogs that were downloaded from retrosheet. There is one gamelog file for each season. It would be ideal to have a file for each team. This should only need to be run once."
   ]
  },
  {
   "cell_type": "markdown",
   "id": "d95ed5f0-5c04-43da-a3b7-8140d3441409",
   "metadata": {},
   "source": [
    "## Imports"
   ]
  },
  {
   "cell_type": "code",
   "execution_count": 1,
   "id": "ea728ecd-61af-43f8-9f0f-3c4a3849c701",
   "metadata": {},
   "outputs": [],
   "source": [
    "import os\n",
    "import numpy as np\n",
    "import pandas as pd"
   ]
  },
  {
   "cell_type": "markdown",
   "id": "dc83811a-be2f-4786-b79b-69bdc7bb59ac",
   "metadata": {},
   "source": [
    "## Gamelog for each team"
   ]
  },
  {
   "cell_type": "code",
   "execution_count": 2,
   "id": "e4be66f7-b3a1-4b57-87fa-79360f9f639d",
   "metadata": {},
   "outputs": [],
   "source": [
    "TEAM_GLS_DIR = \"../data/team_gls\"\n",
    "GLS_DIR = \"../retrosheet_data/gls/\""
   ]
  },
  {
   "cell_type": "markdown",
   "id": "e9f1928d-1b36-4f24-a318-97f36b52887d",
   "metadata": {},
   "source": [
    "Get a list of all teams, open random gamelog and get set of home teams"
   ]
  },
  {
   "cell_type": "code",
   "execution_count": 3,
   "id": "07021512-990c-40ae-bf93-1dc3e61007c9",
   "metadata": {},
   "outputs": [],
   "source": [
    "# Read gamelog file\n",
    "gl_2015 = pd.read_csv(os.path.join(GLS_DIR, \"GL2015.txt\"), delimiter=\",\")\n",
    "\n",
    "# Get teams\n",
    "teams = gl_2015[\"Home Team\"][~gl_2015[\"Home Team\"].duplicated()]\n",
    "assert len(teams) == 30"
   ]
  },
  {
   "cell_type": "markdown",
   "id": "9c08bb6c-9876-4daa-aaae-11a49bd2242f",
   "metadata": {},
   "source": [
    "Get the home stats for each team when they are the home team"
   ]
  },
  {
   "cell_type": "code",
   "execution_count": 4,
   "id": "0a1968f8-a33f-4ec2-b40f-942e85403676",
   "metadata": {},
   "outputs": [],
   "source": [
    "# Attributes to uniquely identify a game\n",
    "game_id = ['Date',\n",
    "           'Number of game',\n",
    "           'Day',\n",
    "           'Visiting Team',\n",
    "           'Home Team', \n",
    "           'Visiting Team Starting Pitcher ID', \n",
    "           'Home Team Starting Pitcher ID',\n",
    "           'Visiting Team Score',\n",
    "           'Home Team Score']\n",
    "\n",
    "# Home attributes to include\n",
    "home_attr = ['Home Team At-bats',\n",
    "             'Home Team Hits',\n",
    "             'Home Team Doubles',\n",
    "             'Home Team Triples',\n",
    "             'Home Team Homeruns',\n",
    "             'Home Team RBIs',\n",
    "             'Home Team Sacrifice Hits',\n",
    "             'Home Team Sacrifice Flies',\n",
    "             'Home Team Hit-by-pitch',\n",
    "             'Home Team Walks',\n",
    "             'Home Team Intentional Walks',\n",
    "             'Home Team Strikeouts',\n",
    "             'Home Team Stolen Bases',\n",
    "             'Home Team Caught Stealing',\n",
    "             'Home Team Grounded into DP',\n",
    "             'Home Team Awarded First Base due to CI',\n",
    "             'Home Team Left on Base',\n",
    "             'Home Team Pitchers Used',\n",
    "             'Home Team Individual Earned Runs',\n",
    "             'Home Team Earned Runs',\n",
    "             'Home Team Wild Pitches',\n",
    "             'Home Team Balks',\n",
    "             'Home Team Putouts',\n",
    "             'Home Team Assists',\n",
    "             'Home Team Errors',\n",
    "             'Home Team Passed Balls',\n",
    "             'Home Team Double Plays',\n",
    "             'Home Team Triple Plays']\n",
    "\n",
    "# Dictionary for home games, keys are teams\n",
    "home_gls = dict()\n",
    "\n",
    "for gl_file in os.listdir(GLS_DIR):\n",
    "    gl = pd.read_csv(os.path.join(GLS_DIR, gl_file), delimiter=\",\")\n",
    "    for team in teams:\n",
    "        team_gl = gl[game_id + home_attr][gl[\"Home Team\"] == team]\n",
    "        if team in home_gls.keys():\n",
    "            home_gls[team] = pd.concat([home_gls[team], team_gl], ignore_index=True)\n",
    "        else:\n",
    "            home_gls[team] = gl[game_id + home_attr][gl[\"Home Team\"] == team]"
   ]
  },
  {
   "cell_type": "code",
   "execution_count": 5,
   "id": "e0b7cd63-b86b-4264-b956-009157d5a5f8",
   "metadata": {},
   "outputs": [],
   "source": [
    "away_attr = ['Visiting Team At-bats',\n",
    "             'Visiting Team Hits',\n",
    "             'Visiting Team Doubles',\n",
    "             'Visiting Team Triples',\n",
    "             'Visiting Team Homeruns',\n",
    "             'Visiting Team RBIs',\n",
    "             'Visiting Team Sacrifice Hits',\n",
    "             'Visiting Team Sacrifice Flies',\n",
    "             'Visiting Team Hit-by-pitch',\n",
    "             'Visiting Team Walks',\n",
    "             'Visiting Team Intentional Walks',\n",
    "             'Visiting Team Strikeouts',\n",
    "             'Visiting Team Stolen Bases',\n",
    "             'Visiting Team Caught Stealing',\n",
    "             'Visiting Team Grounded into DP',\n",
    "             'Visiting Team Awarded First Base due to CI',\n",
    "             'Visiting Team Left on Base',\n",
    "             'Visiting Team Pitchers Used',\n",
    "             'Visiting Team Individual Earned Runs',\n",
    "             'Visiting Team Earned Runs',\n",
    "             'Visiting Team Wild Pitches',\n",
    "             'Visiting Team Balks',\n",
    "             'Visiting Team Putouts',\n",
    "             'Visiting Team Assists',\n",
    "             'Visiting Team Errors',\n",
    "             'Visiting Team Passed Balls',\n",
    "             'Visiting Team Double Plays',\n",
    "             'Visiting Team Triple Plays']\n",
    "\n",
    "# Dictionary for away games, keys are teams\n",
    "away_gls = dict()\n",
    "\n",
    "for gl_file in os.listdir(GLS_DIR):\n",
    "    gl = pd.read_csv(os.path.join(GLS_DIR, gl_file), delimiter=\",\")\n",
    "    for team in teams:\n",
    "        team_gl = gl[game_id + away_attr][gl[\"Visiting Team\"] == team]\n",
    "        if team in away_gls.keys():\n",
    "            away_gls[team] = pd.concat([away_gls[team], team_gl], ignore_index=True)\n",
    "        else:\n",
    "            away_gls[team] = gl[game_id + away_attr][gl[\"Visiting Team\"] == team]"
   ]
  },
  {
   "cell_type": "markdown",
   "id": "d4b17be9-40c5-47e2-9798-f829055c3b16",
   "metadata": {},
   "source": [
    "Save dataframes to csvs for each team in appropriate folder."
   ]
  },
  {
   "cell_type": "code",
   "execution_count": 6,
   "id": "d92f75c6-4512-4298-8117-a79c9ab66046",
   "metadata": {},
   "outputs": [],
   "source": [
    "# Make folder for team game logs\n",
    "if not os.path.exists(TEAM_GLS_DIR):\n",
    "    os.makedirs(TEAM_GLS_DIR)\n",
    "\n",
    "# Clear folder if there are files in it\n",
    "for file in os.listdir(TEAM_GLS_DIR):\n",
    "    os.remove(os.path.join(TEAM_GLS_DIR, file))\n",
    "\n",
    "# Loop through teams and save df\n",
    "for team in teams:\n",
    "    \n",
    "    # Get home and away dfs for team\n",
    "    home_gl = home_gls[team]\n",
    "    away_gl = away_gls[team]\n",
    "    \n",
    "    # Rename columns\n",
    "    home_gl.columns = game_id + [col.replace(\"Home \", \"\") for col in home_attr]\n",
    "    away_gl.columns = game_id + [col.replace(\"Visiting \", \"\") for col in away_attr]\n",
    "    \n",
    "    # Join away and home gamelogs\n",
    "    team_gl = pd.concat([home_gl, away_gl], ignore_index=True).sort_values(by=\"Date\")\n",
    "    \n",
    "    # ID that retrosheet uses to identify games: Home Team + Year + Month + Day + Number of Game\n",
    "    team_gl[\"Number of game\"] = team_gl[\"Number of game\"].astype(\"string\")\n",
    "    team_gl[\"Date\"] = team_gl[\"Date\"].astype(\"string\")\n",
    "    team_gl[\"Game ID\"] = team_gl[\"Home Team\"] + team_gl[\"Date\"] + team_gl[\"Number of game\"]\n",
    "    \n",
    "    # Change back to integer\n",
    "    team_gl[\"Number of game\"] = pd.to_numeric(team_gl[\"Number of game\"])\n",
    "    team_gl[\"Date\"] = pd.to_numeric(team_gl[\"Date\"])\n",
    "    \n",
    "    # Change data to be datetime datatype and save csv\n",
    "    team_gl[\"Date\"] = pd.to_datetime(team_gl[\"Date\"], format=\"%Y%m%d\")\n",
    "    team_gl.to_csv(os.path.join(TEAM_GLS_DIR, f\"GL{team}.csv\"), index=False)"
   ]
  }
 ],
 "metadata": {
  "kernelspec": {
   "display_name": "Python 3 (ipykernel)",
   "language": "python",
   "name": "python3"
  },
  "language_info": {
   "codemirror_mode": {
    "name": "ipython",
    "version": 3
   },
   "file_extension": ".py",
   "mimetype": "text/x-python",
   "name": "python",
   "nbconvert_exporter": "python",
   "pygments_lexer": "ipython3",
   "version": "3.8.10"
  }
 },
 "nbformat": 4,
 "nbformat_minor": 5
}
